{
 "cells": [
  {
   "cell_type": "code",
   "execution_count": 1,
   "metadata": {},
   "outputs": [],
   "source": [
    "import numpy as np\n",
    "import matplotlib.pyplot as plt\n",
    "import pandas as pd\n",
    "from sklearn import svm\n",
    "import cv2\n",
    "import csv"
   ]
  },
  {
   "cell_type": "code",
   "execution_count": 2,
   "metadata": {},
   "outputs": [],
   "source": [
    "plt.style.use('seaborn')"
   ]
  },
  {
   "cell_type": "code",
   "execution_count": 3,
   "metadata": {},
   "outputs": [],
   "source": [
    "data = pd.read_csv('Train/train.csv')\n",
    "df = np.array(data)"
   ]
  },
  {
   "cell_type": "code",
   "execution_count": 4,
   "metadata": {},
   "outputs": [],
   "source": [
    "labels = []\n",
    "m = df.shape[0]\n",
    "\n",
    "for i in range(m):\n",
    "    labels.append(df[i][1])\n"
   ]
  },
  {
   "cell_type": "code",
   "execution_count": 5,
   "metadata": {},
   "outputs": [
    {
     "data": {
      "text/html": [
       "<div>\n",
       "<style scoped>\n",
       "    .dataframe tbody tr th:only-of-type {\n",
       "        vertical-align: middle;\n",
       "    }\n",
       "\n",
       "    .dataframe tbody tr th {\n",
       "        vertical-align: top;\n",
       "    }\n",
       "\n",
       "    .dataframe thead th {\n",
       "        text-align: right;\n",
       "    }\n",
       "</style>\n",
       "<table border=\"1\" class=\"dataframe\">\n",
       "  <thead>\n",
       "    <tr style=\"text-align: right;\">\n",
       "      <th></th>\n",
       "      <th>ImageId</th>\n",
       "      <th>NameOfPokemon</th>\n",
       "    </tr>\n",
       "  </thead>\n",
       "  <tbody>\n",
       "    <tr>\n",
       "      <th>0</th>\n",
       "      <td>296.jpg</td>\n",
       "      <td>Pikachu</td>\n",
       "    </tr>\n",
       "    <tr>\n",
       "      <th>1</th>\n",
       "      <td>297.jpg</td>\n",
       "      <td>Pikachu</td>\n",
       "    </tr>\n",
       "    <tr>\n",
       "      <th>2</th>\n",
       "      <td>298.jpg</td>\n",
       "      <td>Pikachu</td>\n",
       "    </tr>\n",
       "    <tr>\n",
       "      <th>3</th>\n",
       "      <td>299.jpg</td>\n",
       "      <td>Pikachu</td>\n",
       "    </tr>\n",
       "    <tr>\n",
       "      <th>4</th>\n",
       "      <td>300.jpg</td>\n",
       "      <td>Pikachu</td>\n",
       "    </tr>\n",
       "  </tbody>\n",
       "</table>\n",
       "</div>"
      ],
      "text/plain": [
       "   ImageId NameOfPokemon\n",
       "0  296.jpg       Pikachu\n",
       "1  297.jpg       Pikachu\n",
       "2  298.jpg       Pikachu\n",
       "3  299.jpg       Pikachu\n",
       "4  300.jpg       Pikachu"
      ]
     },
     "execution_count": 5,
     "metadata": {},
     "output_type": "execute_result"
    }
   ],
   "source": [
    "data.head()"
   ]
  },
  {
   "cell_type": "code",
   "execution_count": 7,
   "metadata": {},
   "outputs": [],
   "source": [
    "datapath = \"Train/Images/\"\n",
    "\n",
    "def create_data(df):\n",
    "    m = df.shape[0]\n",
    "    X = []\n",
    "    for i in range(m):\n",
    "        img = cv2.imread(datapath+df[i][0])\n",
    "#         print(datapath+df[i][0])\n",
    "        img = cv2.resize(img,(300,300))\n",
    "        X.append(img)\n",
    "    return X"
   ]
  },
  {
   "cell_type": "code",
   "execution_count": 8,
   "metadata": {},
   "outputs": [],
   "source": [
    "X = create_data(df)"
   ]
  },
  {
   "cell_type": "code",
   "execution_count": 10,
   "metadata": {},
   "outputs": [
    {
     "data": {
      "text/plain": [
       "list"
      ]
     },
     "execution_count": 10,
     "metadata": {},
     "output_type": "execute_result"
    }
   ],
   "source": [
    "type(X)"
   ]
  },
  {
   "cell_type": "code",
   "execution_count": 12,
   "metadata": {},
   "outputs": [],
   "source": [
    "X = np.array(X)"
   ]
  },
  {
   "cell_type": "code",
   "execution_count": 13,
   "metadata": {},
   "outputs": [
    {
     "data": {
      "text/plain": [
       "(304, 300, 300, 3)"
      ]
     },
     "execution_count": 13,
     "metadata": {},
     "output_type": "execute_result"
    }
   ],
   "source": [
    "X.shape"
   ]
  },
  {
   "cell_type": "code",
   "execution_count": 14,
   "metadata": {},
   "outputs": [],
   "source": [
    "X = X.reshape((X.shape[0],-1))"
   ]
  },
  {
   "cell_type": "code",
   "execution_count": 15,
   "metadata": {},
   "outputs": [
    {
     "data": {
      "text/plain": [
       "(304, 270000)"
      ]
     },
     "execution_count": 15,
     "metadata": {},
     "output_type": "execute_result"
    }
   ],
   "source": [
    "X.shape"
   ]
  },
  {
   "cell_type": "code",
   "execution_count": 16,
   "metadata": {},
   "outputs": [],
   "source": [
    "def normalize(X):\n",
    "    m = X.shape[0]\n",
    "    for i in range(m):\n",
    "        u = np.mean(X[i])\n",
    "        sigma = np.std(X[i])\n",
    "        X[i] = (X[i] - u)/sigma\n",
    "    return X"
   ]
  },
  {
   "cell_type": "code",
   "execution_count": 17,
   "metadata": {},
   "outputs": [],
   "source": [
    "X = normalize(X)"
   ]
  },
  {
   "cell_type": "code",
   "execution_count": 18,
   "metadata": {},
   "outputs": [
    {
     "name": "stdout",
     "output_type": "stream",
     "text": [
      "[[  1   0   0 ...   0   0 255]\n",
      " [  0   0   0 ...   0   0   0]\n",
      " [  0   0   0 ...   0   0   0]\n",
      " ...\n",
      " [  0   0   0 ...   0   0   0]\n",
      " [  0   0   0 ...   0   0   0]\n",
      " [  0   0   0 ...   0   0   0]]\n"
     ]
    }
   ],
   "source": [
    "print(X)"
   ]
  },
  {
   "cell_type": "code",
   "execution_count": 19,
   "metadata": {},
   "outputs": [
    {
     "data": {
      "text/plain": [
       "array([[  1,   0,   0, ...,   0,   0, 255],\n",
       "       [  0,   0,   0, ...,   0,   0,   0],\n",
       "       [  0,   0,   0, ...,   0,   0,   0],\n",
       "       ...,\n",
       "       [  0,   0,   0, ...,   0,   0,   0],\n",
       "       [  0,   0,   0, ...,   0,   0,   0],\n",
       "       [  0,   0,   0, ...,   0,   0,   0]], dtype=uint8)"
      ]
     },
     "execution_count": 19,
     "metadata": {},
     "output_type": "execute_result"
    }
   ],
   "source": [
    "X"
   ]
  },
  {
   "cell_type": "code",
   "execution_count": 20,
   "metadata": {},
   "outputs": [],
   "source": [
    "from sklearn import svm"
   ]
  },
  {
   "cell_type": "code",
   "execution_count": 21,
   "metadata": {},
   "outputs": [],
   "source": [
    "svm_classifier = svm.SVC(kernel='linear',C=1.0)"
   ]
  },
  {
   "cell_type": "code",
   "execution_count": 22,
   "metadata": {},
   "outputs": [
    {
     "data": {
      "text/plain": [
       "1.0"
      ]
     },
     "execution_count": 22,
     "metadata": {},
     "output_type": "execute_result"
    }
   ],
   "source": [
    "svm_classifier.fit(X,labels)\n",
    "svm_classifier.score(X,labels)"
   ]
  },
  {
   "cell_type": "code",
   "execution_count": 23,
   "metadata": {},
   "outputs": [],
   "source": [
    "test_data = pd.read_csv('Test/test.csv')\n",
    "test = np.array(test_data)"
   ]
  },
  {
   "cell_type": "code",
   "execution_count": 24,
   "metadata": {},
   "outputs": [
    {
     "data": {
      "text/html": [
       "<div>\n",
       "<style scoped>\n",
       "    .dataframe tbody tr th:only-of-type {\n",
       "        vertical-align: middle;\n",
       "    }\n",
       "\n",
       "    .dataframe tbody tr th {\n",
       "        vertical-align: top;\n",
       "    }\n",
       "\n",
       "    .dataframe thead th {\n",
       "        text-align: right;\n",
       "    }\n",
       "</style>\n",
       "<table border=\"1\" class=\"dataframe\">\n",
       "  <thead>\n",
       "    <tr style=\"text-align: right;\">\n",
       "      <th></th>\n",
       "      <th>ImageId</th>\n",
       "    </tr>\n",
       "  </thead>\n",
       "  <tbody>\n",
       "    <tr>\n",
       "      <th>0</th>\n",
       "      <td>1106.jpg</td>\n",
       "    </tr>\n",
       "    <tr>\n",
       "      <th>1</th>\n",
       "      <td>2236.jpg</td>\n",
       "    </tr>\n",
       "    <tr>\n",
       "      <th>2</th>\n",
       "      <td>1131.jpg</td>\n",
       "    </tr>\n",
       "    <tr>\n",
       "      <th>3</th>\n",
       "      <td>2221.jpg</td>\n",
       "    </tr>\n",
       "    <tr>\n",
       "      <th>4</th>\n",
       "      <td>2011.jpg</td>\n",
       "    </tr>\n",
       "  </tbody>\n",
       "</table>\n",
       "</div>"
      ],
      "text/plain": [
       "    ImageId\n",
       "0  1106.jpg\n",
       "1  2236.jpg\n",
       "2  1131.jpg\n",
       "3  2221.jpg\n",
       "4  2011.jpg"
      ]
     },
     "execution_count": 24,
     "metadata": {},
     "output_type": "execute_result"
    }
   ],
   "source": [
    "test_data.head()"
   ]
  },
  {
   "cell_type": "code",
   "execution_count": 26,
   "metadata": {},
   "outputs": [],
   "source": [
    "dp = \"Test/Images/\"\n",
    "\n",
    "def create_data(test):\n",
    "    n = test.shape[0]\n",
    "    x = []\n",
    "    for i in range(n):\n",
    "        t_img = cv2.imread(dp+test[i][0])\n",
    "#         print(dp+test[i][0])\n",
    "        t_img = cv2.resize(t_img,(300,300))\n",
    "        x.append(t_img)\n",
    "    return x"
   ]
  },
  {
   "cell_type": "code",
   "execution_count": 27,
   "metadata": {},
   "outputs": [],
   "source": [
    "x = create_data(test)"
   ]
  },
  {
   "cell_type": "code",
   "execution_count": 29,
   "metadata": {},
   "outputs": [],
   "source": [
    "x = np.array(x)"
   ]
  },
  {
   "cell_type": "code",
   "execution_count": 30,
   "metadata": {},
   "outputs": [
    {
     "data": {
      "text/plain": [
       "(123, 300, 300, 3)"
      ]
     },
     "execution_count": 30,
     "metadata": {},
     "output_type": "execute_result"
    }
   ],
   "source": [
    "x.shape"
   ]
  },
  {
   "cell_type": "code",
   "execution_count": 31,
   "metadata": {},
   "outputs": [],
   "source": [
    "x = x.reshape((x.shape[0],-1))"
   ]
  },
  {
   "cell_type": "code",
   "execution_count": 32,
   "metadata": {},
   "outputs": [
    {
     "data": {
      "text/plain": [
       "(123, 270000)"
      ]
     },
     "execution_count": 32,
     "metadata": {},
     "output_type": "execute_result"
    }
   ],
   "source": [
    "x.shape"
   ]
  },
  {
   "cell_type": "code",
   "execution_count": 33,
   "metadata": {},
   "outputs": [],
   "source": [
    "x = normalize(x)"
   ]
  },
  {
   "cell_type": "code",
   "execution_count": 34,
   "metadata": {},
   "outputs": [
    {
     "name": "stdout",
     "output_type": "stream",
     "text": [
      "[[  1   1   1 ...   1   1   1]\n",
      " [  0   0   0 ...   0   0   0]\n",
      " [  1   1   1 ...   1   1   1]\n",
      " ...\n",
      " [  0   0   0 ...   0   0   0]\n",
      " [255   0 254 ... 255   1   0]\n",
      " [  1   1   1 ...   1   1   1]]\n"
     ]
    }
   ],
   "source": [
    "print(x)"
   ]
  },
  {
   "cell_type": "code",
   "execution_count": 35,
   "metadata": {},
   "outputs": [
    {
     "data": {
      "text/plain": [
       "array([[  1,   1,   1, ...,   1,   1,   1],\n",
       "       [  0,   0,   0, ...,   0,   0,   0],\n",
       "       [  1,   1,   1, ...,   1,   1,   1],\n",
       "       ...,\n",
       "       [  0,   0,   0, ...,   0,   0,   0],\n",
       "       [255,   0, 254, ..., 255,   1,   0],\n",
       "       [  1,   1,   1, ...,   1,   1,   1]], dtype=uint8)"
      ]
     },
     "execution_count": 35,
     "metadata": {},
     "output_type": "execute_result"
    }
   ],
   "source": [
    "x"
   ]
  },
  {
   "cell_type": "code",
   "execution_count": 36,
   "metadata": {},
   "outputs": [],
   "source": [
    "lab = svm_classifier.predict(x)"
   ]
  },
  {
   "cell_type": "code",
   "execution_count": 37,
   "metadata": {
    "scrolled": true
   },
   "outputs": [
    {
     "name": "stdout",
     "output_type": "stream",
     "text": [
      "['Bulbasaur' 'Charmander' 'Bulbasaur' 'Charmander' 'Bulbasaur' 'Bulbasaur'\n",
      " 'Charmander' 'Bulbasaur' 'Bulbasaur' 'Charmander' 'Bulbasaur' 'Bulbasaur'\n",
      " 'Bulbasaur' 'Bulbasaur' 'Charmander' 'Pikachu' 'Charmander' 'Charmander'\n",
      " 'Pikachu' 'Charmander' 'Pikachu' 'Bulbasaur' 'Charmander' 'Bulbasaur'\n",
      " 'Pikachu' 'Charmander' 'Bulbasaur' 'Bulbasaur' 'Pikachu' 'Pikachu'\n",
      " 'Charmander' 'Bulbasaur' 'Charmander' 'Bulbasaur' 'Charmander'\n",
      " 'Bulbasaur' 'Bulbasaur' 'Bulbasaur' 'Charmander' 'Bulbasaur' 'Bulbasaur'\n",
      " 'Charmander' 'Bulbasaur' 'Charmander' 'Charmander' 'Bulbasaur'\n",
      " 'Charmander' 'Bulbasaur' 'Charmander' 'Charmander' 'Bulbasaur'\n",
      " 'Charmander' 'Bulbasaur' 'Bulbasaur' 'Charmander' 'Bulbasaur'\n",
      " 'Charmander' 'Bulbasaur' 'Pikachu' 'Charmander' 'Charmander' 'Pikachu'\n",
      " 'Charmander' 'Charmander' 'Pikachu' 'Bulbasaur' 'Bulbasaur' 'Pikachu'\n",
      " 'Charmander' 'Bulbasaur' 'Pikachu' 'Bulbasaur' 'Bulbasaur' 'Bulbasaur'\n",
      " 'Charmander' 'Charmander' 'Charmander' 'Charmander' 'Bulbasaur'\n",
      " 'Bulbasaur' 'Pikachu' 'Bulbasaur' 'Charmander' 'Bulbasaur' 'Pikachu'\n",
      " 'Bulbasaur' 'Bulbasaur' 'Charmander' 'Charmander' 'Bulbasaur' 'Bulbasaur'\n",
      " 'Charmander' 'Bulbasaur' 'Pikachu' 'Charmander' 'Charmander' 'Charmander'\n",
      " 'Bulbasaur' 'Charmander' 'Charmander' 'Bulbasaur' 'Bulbasaur' 'Bulbasaur'\n",
      " 'Pikachu' 'Charmander' 'Charmander' 'Bulbasaur' 'Pikachu' 'Charmander'\n",
      " 'Bulbasaur' 'Bulbasaur' 'Charmander' 'Charmander' 'Bulbasaur'\n",
      " 'Charmander' 'Pikachu' 'Charmander' 'Pikachu' 'Bulbasaur' 'Bulbasaur'\n",
      " 'Charmander' 'Bulbasaur' 'Bulbasaur']\n"
     ]
    }
   ],
   "source": [
    "print(lab)"
   ]
  },
  {
   "cell_type": "code",
   "execution_count": 39,
   "metadata": {},
   "outputs": [],
   "source": [
    "from sklearn.neighbors import KNeighborsClassifier"
   ]
  },
  {
   "cell_type": "code",
   "execution_count": 40,
   "metadata": {},
   "outputs": [],
   "source": [
    "knn = KNeighborsClassifier(n_neighbors=3)"
   ]
  },
  {
   "cell_type": "code",
   "execution_count": 41,
   "metadata": {},
   "outputs": [
    {
     "data": {
      "text/plain": [
       "KNeighborsClassifier(algorithm='auto', leaf_size=30, metric='minkowski',\n",
       "                     metric_params=None, n_jobs=None, n_neighbors=3, p=2,\n",
       "                     weights='uniform')"
      ]
     },
     "execution_count": 41,
     "metadata": {},
     "output_type": "execute_result"
    }
   ],
   "source": [
    "knn.fit(X, labels)"
   ]
  },
  {
   "cell_type": "code",
   "execution_count": 42,
   "metadata": {},
   "outputs": [],
   "source": [
    "sol = knn.predict(x)"
   ]
  },
  {
   "cell_type": "code",
   "execution_count": 43,
   "metadata": {},
   "outputs": [
    {
     "name": "stdout",
     "output_type": "stream",
     "text": [
      "['Bulbasaur' 'Charmander' 'Bulbasaur' 'Charmander' 'Pikachu' 'Pikachu'\n",
      " 'Pikachu' 'Bulbasaur' 'Bulbasaur' 'Charmander' 'Bulbasaur' 'Bulbasaur'\n",
      " 'Bulbasaur' 'Bulbasaur' 'Charmander' 'Bulbasaur' 'Charmander'\n",
      " 'Charmander' 'Pikachu' 'Charmander' 'Pikachu' 'Bulbasaur' 'Charmander'\n",
      " 'Bulbasaur' 'Charmander' 'Charmander' 'Charmander' 'Bulbasaur' 'Pikachu'\n",
      " 'Pikachu' 'Pikachu' 'Charmander' 'Charmander' 'Bulbasaur' 'Pikachu'\n",
      " 'Charmander' 'Bulbasaur' 'Bulbasaur' 'Charmander' 'Bulbasaur' 'Bulbasaur'\n",
      " 'Pikachu' 'Pikachu' 'Bulbasaur' 'Charmander' 'Bulbasaur' 'Charmander'\n",
      " 'Bulbasaur' 'Charmander' 'Charmander' 'Pikachu' 'Charmander' 'Pikachu'\n",
      " 'Bulbasaur' 'Charmander' 'Bulbasaur' 'Bulbasaur' 'Pikachu' 'Pikachu'\n",
      " 'Pikachu' 'Charmander' 'Pikachu' 'Charmander' 'Charmander' 'Pikachu'\n",
      " 'Pikachu' 'Bulbasaur' 'Pikachu' 'Pikachu' 'Bulbasaur' 'Bulbasaur'\n",
      " 'Pikachu' 'Bulbasaur' 'Bulbasaur' 'Charmander' 'Charmander' 'Bulbasaur'\n",
      " 'Pikachu' 'Pikachu' 'Bulbasaur' 'Pikachu' 'Charmander' 'Charmander'\n",
      " 'Bulbasaur' 'Pikachu' 'Bulbasaur' 'Bulbasaur' 'Charmander' 'Charmander'\n",
      " 'Bulbasaur' 'Bulbasaur' 'Charmander' 'Bulbasaur' 'Pikachu' 'Pikachu'\n",
      " 'Charmander' 'Bulbasaur' 'Charmander' 'Pikachu' 'Charmander' 'Bulbasaur'\n",
      " 'Pikachu' 'Bulbasaur' 'Pikachu' 'Charmander' 'Charmander' 'Pikachu'\n",
      " 'Pikachu' 'Charmander' 'Bulbasaur' 'Bulbasaur' 'Charmander' 'Pikachu'\n",
      " 'Bulbasaur' 'Pikachu' 'Pikachu' 'Pikachu' 'Pikachu' 'Bulbasaur' 'Pikachu'\n",
      " 'Charmander' 'Pikachu' 'Charmander']\n"
     ]
    }
   ],
   "source": [
    "print(sol)"
   ]
  },
  {
   "cell_type": "code",
   "execution_count": 44,
   "metadata": {},
   "outputs": [],
   "source": [
    "with open('result.csv', 'w') as csvFile:\n",
    "    writer = csv.writer(csvFile)\n",
    "    n = test.shape[0]\n",
    "    writer.writerow([\"ImageId\",\"NameOfPokemon\"])\n",
    "    for i in range(n):\n",
    "        l = [test[i][0],lab[i]]\n",
    "        writer.writerow(l)\n",
    "    csvFile.close()"
   ]
  }
 ],
 "metadata": {
  "kernelspec": {
   "display_name": "Python 3",
   "language": "python",
   "name": "python3"
  },
  "language_info": {
   "codemirror_mode": {
    "name": "ipython",
    "version": 3
   },
   "file_extension": ".py",
   "mimetype": "text/x-python",
   "name": "python",
   "nbconvert_exporter": "python",
   "pygments_lexer": "ipython3",
   "version": "3.7.3"
  }
 },
 "nbformat": 4,
 "nbformat_minor": 2
}
